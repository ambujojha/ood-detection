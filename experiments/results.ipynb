{
 "cells": [
  {
   "cell_type": "code",
   "execution_count": 33,
   "metadata": {},
   "outputs": [],
   "source": [
    "def compute_px(ppl, lls):\n",
    "    lengths = np.array([len(ll) for ll in lls])\n",
    "    logpx = np.log(ppl) * lengths * -1\n",
    "    return logpx\n",
    "\n",
    "def compute_auroc_all(id_msp, id_px, id_ppl, ood_msp, ood_px, ood_ppl, do_print=False):\n",
    "    score_px = compute_auroc(-id_px, -ood_px)\n",
    "    score_py = compute_auroc(-id_msp, -ood_msp)\n",
    "    score_ppl = compute_auroc(id_ppl, ood_ppl)\n",
    "    if do_print:\n",
    "        print(f\"P(x): {score_px:.3f}\")\n",
    "        print(f\"P(y | x): {score_py:.3f}\")\n",
    "        print(f\"Perplexity: {score_ppl:.3f}\")\n",
    "    scores = {\n",
    "        'p_x': score_px,\n",
    "        'p_y': score_py,\n",
    "        'ppl': score_ppl\n",
    "    }\n",
    "    return scores"
   ]
  },
  {
   "cell_type": "code",
   "execution_count": 34,
   "metadata": {},
   "outputs": [],
   "source": [
    "from sklearn.metrics import roc_auc_score, roc_curve\n",
    "\n",
    "def compute_auroc(id_pps, ood_pps, normalize=False, return_curve=False):\n",
    "    y = np.concatenate((np.ones_like(ood_pps), np.zeros_like(id_pps)))\n",
    "    scores = np.concatenate((ood_pps, id_pps))\n",
    "    if normalize:\n",
    "        scores = (scores - scores.min()) / (scores.max() - scores.min())\n",
    "    if return_curve:\n",
    "        return roc_curve(y, scores)\n",
    "    else:\n",
    "        return 100*roc_auc_score(y, scores)\n",
    "\n",
    "def compute_far(id_pps, ood_pps, rate=5):\n",
    "    incorrect = len(id_pps[id_pps > np.percentile(ood_pps, rate)])\n",
    "    return 100*incorrect / len(id_pps)"
   ]
  },
  {
   "cell_type": "code",
   "execution_count": 38,
   "metadata": {},
   "outputs": [],
   "source": [
    "def compute_metric_all(id_msp, id_px, id_ppl, ood_msp, ood_px, ood_ppl, metric='auroc', do_print=False):\n",
    "    if metric == 'auroc':\n",
    "        score_px = compute_auroc(-id_px, -ood_px)\n",
    "        score_py = compute_auroc(-id_msp, -ood_msp)\n",
    "        score_ppl = compute_auroc(id_ppl, ood_ppl)\n",
    "    elif metric == 'far':\n",
    "        score_px = compute_far(-id_px, -ood_px)\n",
    "        score_py = compute_far(-id_msp, -ood_msp)\n",
    "        score_ppl = compute_far(id_ppl, ood_ppl)\n",
    "    else:\n",
    "        raise Exception('Invalid metric name')\n",
    "\n",
    "    if do_print:\n",
    "        print(f\"Metric {metric}:\")\n",
    "        print(f\"P(x): {score_px:.3f}\")\n",
    "        print(f\"P(y | x): {score_py:.3f}\")\n",
    "        print(f\"Perplexity: {score_ppl:.3f}\\n\")\n",
    "\n",
    "    scores = {\n",
    "        'p_x': score_px,\n",
    "        'p_y': score_py,\n",
    "        'ppl': score_ppl\n",
    "    }\n",
    "    return scores"
   ]
  },
  {
   "cell_type": "markdown",
   "metadata": {},
   "source": [
    "### IMDB as ID vs SST-2 as OOD"
   ]
  },
  {
   "cell_type": "code",
   "execution_count": 4,
   "metadata": {},
   "outputs": [],
   "source": [
    "import numpy as np\n",
    "\n",
    "ppl_base_path = '../output/gpt2/sst2/'\n",
    "\n",
    "imdb_pps = np.load(ppl_base_path + 'imdb_5e-5_pps.npy')\n",
    "sst2_pps = np.load(ppl_base_path + 'sst2_5e-5_pps.npy')"
   ]
  },
  {
   "cell_type": "code",
   "execution_count": 9,
   "metadata": {},
   "outputs": [],
   "source": [
    "import pickle\n",
    "\n",
    "with open(ppl_base_path + 'imdb_5e-5_lls.pkl', 'rb') as f:\n",
    "    imdb_lls = pickle.load(f)\n",
    "\n",
    "with open(ppl_base_path + 'sst2_5e-5_lls.pkl', 'rb') as f:\n",
    "    sst2_lls = pickle.load(f)"
   ]
  },
  {
   "cell_type": "code",
   "execution_count": 55,
   "metadata": {},
   "outputs": [],
   "source": [
    "msp_base_path = '../roberta/msp/'\n",
    "\n",
    "imdb_msp = np.load(msp_base_path + 'large_imdb_msp.npy')\n",
    "# imdb_msp = np.load(msp_base_path + 'textattack_imdb_msp.npy')\n",
    "sst2_msp = np.load(msp_base_path + 'large_sst2_msp.npy')"
   ]
  },
  {
   "cell_type": "code",
   "execution_count": 56,
   "metadata": {},
   "outputs": [],
   "source": [
    "import pandas as pd\n",
    "\n",
    "all_pps = {\n",
    "    'imdb': imdb_pps,\n",
    "#     'yelp': yelp_pps,\n",
    "    'sst2': sst2_pps,\n",
    "#     'snli': snli_pps,\n",
    "#     'rte': rte_pps\n",
    "}\n",
    "\n",
    "all_lls = {\n",
    "    'imdb': imdb_lls,\n",
    "#     'yelp': yelp_lls,\n",
    "    'sst2': sst2_lls,\n",
    "#     'snli': snli_lls,\n",
    "#     'rte': rte_lls\n",
    "}\n",
    "\n",
    "all_msp = {\n",
    "    'imdb': imdb_msp,\n",
    "#     'yelp': yelp_msp,\n",
    "    'sst2': sst2_msp,\n",
    "#     'snli': snli_msp,\n",
    "#     'rte': rte_msp\n",
    "}"
   ]
  },
  {
   "cell_type": "code",
   "execution_count": 57,
   "metadata": {},
   "outputs": [],
   "source": [
    "all_px, all_pxy = {}, {}\n",
    "for ds in all_pps.keys():\n",
    "    all_px[ds] = compute_px(all_pps[ds], all_lls[ds])"
   ]
  },
  {
   "cell_type": "code",
   "execution_count": 58,
   "metadata": {},
   "outputs": [],
   "source": [
    "dataset_pairs = [('sst2', 'imdb')]\n",
    "metrics = ['auroc', 'far']"
   ]
  },
  {
   "cell_type": "code",
   "execution_count": 59,
   "metadata": {},
   "outputs": [
    {
     "name": "stdout",
     "output_type": "stream",
     "text": [
      "-------sst2 vs imdb-------\n",
      "Metric auroc:\n",
      "P(x): 99.948\n",
      "P(y | x): 64.283\n",
      "Perplexity: 90.090\n",
      "\n",
      "Metric far:\n",
      "P(x): 0.000\n",
      "P(y | x): 70.344\n",
      "Perplexity: 34.487\n",
      "\n"
     ]
    }
   ],
   "source": [
    "for (id_name, ood_name) in dataset_pairs:\n",
    "    print(f\"-------{id_name} vs {ood_name}-------\")\n",
    "    for metric in metrics:\n",
    "        compute_metric_all(all_msp[id_name], all_px[id_name],\n",
    "                           all_pps[id_name], all_msp[ood_name],\n",
    "                           all_px[ood_name], all_pps[ood_name], metric=metric, do_print=True)"
   ]
  },
  {
   "cell_type": "code",
   "execution_count": 60,
   "metadata": {},
   "outputs": [],
   "source": [
    "results = {}\n",
    "\n",
    "for metric in metrics:\n",
    "    results[metric] = {}\n",
    "    for (id_name, ood_name) in dataset_pairs:\n",
    "        results[metric][f'{id_name}-{ood_name}'] = compute_metric_all(all_msp[id_name], all_px[id_name],\n",
    "                           all_pps[id_name], all_msp[ood_name],\n",
    "                           all_px[ood_name], all_pps[ood_name], metric=metric)"
   ]
  },
  {
   "cell_type": "code",
   "execution_count": 61,
   "metadata": {},
   "outputs": [],
   "source": [
    "all_dfs = {}\n",
    "\n",
    "for metric in metrics:\n",
    "    all_dfs[metric] = pd.DataFrame.from_dict(results[metric], orient='index')"
   ]
  },
  {
   "cell_type": "code",
   "execution_count": 62,
   "metadata": {},
   "outputs": [
    {
     "name": "stdout",
     "output_type": "stream",
     "text": [
      "AUROC:\n"
     ]
    },
    {
     "data": {
      "text/html": [
       "<div>\n",
       "<style scoped>\n",
       "    .dataframe tbody tr th:only-of-type {\n",
       "        vertical-align: middle;\n",
       "    }\n",
       "\n",
       "    .dataframe tbody tr th {\n",
       "        vertical-align: top;\n",
       "    }\n",
       "\n",
       "    .dataframe thead th {\n",
       "        text-align: right;\n",
       "    }\n",
       "</style>\n",
       "<table border=\"1\" class=\"dataframe\">\n",
       "  <thead>\n",
       "    <tr style=\"text-align: right;\">\n",
       "      <th></th>\n",
       "      <th>p_x</th>\n",
       "      <th>p_y</th>\n",
       "      <th>ppl</th>\n",
       "    </tr>\n",
       "  </thead>\n",
       "  <tbody>\n",
       "    <tr>\n",
       "      <th>sst2-imdb</th>\n",
       "      <td>99.948033</td>\n",
       "      <td>64.283467</td>\n",
       "      <td>90.089902</td>\n",
       "    </tr>\n",
       "  </tbody>\n",
       "</table>\n",
       "</div>"
      ],
      "text/plain": [
       "                 p_x        p_y        ppl\n",
       "sst2-imdb  99.948033  64.283467  90.089902"
      ]
     },
     "execution_count": 62,
     "metadata": {},
     "output_type": "execute_result"
    }
   ],
   "source": [
    "print(\"AUROC:\")\n",
    "\n",
    "all_dfs['auroc']"
   ]
  },
  {
   "cell_type": "code",
   "execution_count": 63,
   "metadata": {},
   "outputs": [
    {
     "name": "stdout",
     "output_type": "stream",
     "text": [
      "FAR95:\n"
     ]
    },
    {
     "data": {
      "text/html": [
       "<div>\n",
       "<style scoped>\n",
       "    .dataframe tbody tr th:only-of-type {\n",
       "        vertical-align: middle;\n",
       "    }\n",
       "\n",
       "    .dataframe tbody tr th {\n",
       "        vertical-align: top;\n",
       "    }\n",
       "\n",
       "    .dataframe thead th {\n",
       "        text-align: right;\n",
       "    }\n",
       "</style>\n",
       "<table border=\"1\" class=\"dataframe\">\n",
       "  <thead>\n",
       "    <tr style=\"text-align: right;\">\n",
       "      <th></th>\n",
       "      <th>p_x</th>\n",
       "      <th>p_y</th>\n",
       "      <th>ppl</th>\n",
       "    </tr>\n",
       "  </thead>\n",
       "  <tbody>\n",
       "    <tr>\n",
       "      <th>sst2-imdb</th>\n",
       "      <td>0.0</td>\n",
       "      <td>70.34384</td>\n",
       "      <td>34.486546</td>\n",
       "    </tr>\n",
       "  </tbody>\n",
       "</table>\n",
       "</div>"
      ],
      "text/plain": [
       "           p_x       p_y        ppl\n",
       "sst2-imdb  0.0  70.34384  34.486546"
      ]
     },
     "execution_count": 63,
     "metadata": {},
     "output_type": "execute_result"
    }
   ],
   "source": [
    "print(\"FAR95:\")\n",
    "\n",
    "all_dfs['far']"
   ]
  },
  {
   "cell_type": "code",
   "execution_count": null,
   "metadata": {},
   "outputs": [],
   "source": []
  }
 ],
 "metadata": {
  "kernelspec": {
   "display_name": "Python [conda env:pl] *",
   "language": "python",
   "name": "conda-env-pl-py"
  },
  "language_info": {
   "codemirror_mode": {
    "name": "ipython",
    "version": 3
   },
   "file_extension": ".py",
   "mimetype": "text/x-python",
   "name": "python",
   "nbconvert_exporter": "python",
   "pygments_lexer": "ipython3",
   "version": "3.7.7"
  }
 },
 "nbformat": 4,
 "nbformat_minor": 4
}
