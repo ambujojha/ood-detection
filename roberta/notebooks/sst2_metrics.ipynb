{
 "cells": [
  {
   "cell_type": "markdown",
   "metadata": {},
   "source": [
    "# Metrics - SST2 (id)"
   ]
  },
  {
   "cell_type": "markdown",
   "metadata": {},
   "source": [
    "## Setup"
   ]
  },
  {
   "cell_type": "code",
   "execution_count": 1,
   "metadata": {},
   "outputs": [],
   "source": [
    "from sklearn.metrics import roc_auc_score, roc_curve\n",
    "import numpy as np\n",
    "\n",
    "def compute_auroc(id_pps, ood_pps, normalize=False, return_curve=False):\n",
    "    y = np.concatenate((np.ones_like(ood_pps), np.zeros_like(id_pps)))\n",
    "    scores = np.concatenate((ood_pps, id_pps))\n",
    "    if normalize:\n",
    "        scores = (scores - scores.min()) / (scores.max() - scores.min())\n",
    "    if return_curve:\n",
    "        return roc_curve(y, scores)\n",
    "    else:\n",
    "        return 100*roc_auc_score(y, scores)\n",
    "\n",
    "def compute_far(id_pps, ood_pps, rate=5):\n",
    "    incorrect = len(id_pps[id_pps > np.percentile(ood_pps, rate)])\n",
    "    return 100*incorrect / len(id_pps)"
   ]
  },
  {
   "cell_type": "code",
   "execution_count": 2,
   "metadata": {},
   "outputs": [
    {
     "data": {
      "text/html": [
       "<div>\n",
       "<style scoped>\n",
       "    .dataframe tbody tr th:only-of-type {\n",
       "        vertical-align: middle;\n",
       "    }\n",
       "\n",
       "    .dataframe tbody tr th {\n",
       "        vertical-align: top;\n",
       "    }\n",
       "\n",
       "    .dataframe thead th {\n",
       "        text-align: right;\n",
       "    }\n",
       "</style>\n",
       "<table border=\"1\" class=\"dataframe\">\n",
       "  <thead>\n",
       "    <tr style=\"text-align: right;\">\n",
       "      <th></th>\n",
       "      <th>roberta_type</th>\n",
       "      <th>id_ood</th>\n",
       "      <th>AUROC</th>\n",
       "      <th>FAR</th>\n",
       "    </tr>\n",
       "  </thead>\n",
       "  <tbody>\n",
       "  </tbody>\n",
       "</table>\n",
       "</div>"
      ],
      "text/plain": [
       "Empty DataFrame\n",
       "Columns: [roberta_type, id_ood, AUROC, FAR]\n",
       "Index: []"
      ]
     },
     "execution_count": 2,
     "metadata": {},
     "output_type": "execute_result"
    }
   ],
   "source": [
    "import pandas as pd\n",
    "\n",
    "columns = ['roberta_type', 'id_ood', 'AUROC', 'FAR']\n",
    "df = pd.DataFrame(columns=columns)\n",
    "df"
   ]
  },
  {
   "cell_type": "markdown",
   "metadata": {},
   "source": [
    "# SST2"
   ]
  },
  {
   "cell_type": "code",
   "execution_count": 6,
   "metadata": {},
   "outputs": [],
   "source": [
    "sst2_base = np.load('msp/sst2_in_domain/base_sst2_msp.npy')\n",
    "sst2_large = np.load('msp/sst2_in_domain/large_sst2_msp.npy')"
   ]
  },
  {
   "cell_type": "markdown",
   "metadata": {},
   "source": [
    "# IMDB (ood)"
   ]
  },
  {
   "cell_type": "markdown",
   "metadata": {},
   "source": [
    "## Base"
   ]
  },
  {
   "cell_type": "code",
   "execution_count": 7,
   "metadata": {},
   "outputs": [],
   "source": [
    "imdb_base = np.load('msp/sst2_in_domain/base_imdb_msp.npy')"
   ]
  },
  {
   "cell_type": "code",
   "execution_count": 8,
   "metadata": {},
   "outputs": [
    {
     "name": "stdout",
     "output_type": "stream",
     "text": [
      "auroc: 35.33037249283667\n",
      "far: 97.99426934097421\n"
     ]
    }
   ],
   "source": [
    "auroc_base = compute_auroc(sst2_base, imdb_base)\n",
    "far_base = compute_far(sst2_base, imdb_base)\n",
    "\n",
    "print('auroc:', auroc_base)\n",
    "print('far:', far_base)"
   ]
  },
  {
   "cell_type": "code",
   "execution_count": 9,
   "metadata": {},
   "outputs": [
    {
     "data": {
      "text/html": [
       "<div>\n",
       "<style scoped>\n",
       "    .dataframe tbody tr th:only-of-type {\n",
       "        vertical-align: middle;\n",
       "    }\n",
       "\n",
       "    .dataframe tbody tr th {\n",
       "        vertical-align: top;\n",
       "    }\n",
       "\n",
       "    .dataframe thead th {\n",
       "        text-align: right;\n",
       "    }\n",
       "</style>\n",
       "<table border=\"1\" class=\"dataframe\">\n",
       "  <thead>\n",
       "    <tr style=\"text-align: right;\">\n",
       "      <th></th>\n",
       "      <th>roberta_type</th>\n",
       "      <th>id_ood</th>\n",
       "      <th>AUROC</th>\n",
       "      <th>FAR</th>\n",
       "    </tr>\n",
       "  </thead>\n",
       "  <tbody>\n",
       "    <tr>\n",
       "      <th>0</th>\n",
       "      <td>base</td>\n",
       "      <td>sst2_imdb</td>\n",
       "      <td>35.330372</td>\n",
       "      <td>97.994269</td>\n",
       "    </tr>\n",
       "  </tbody>\n",
       "</table>\n",
       "</div>"
      ],
      "text/plain": [
       "  roberta_type     id_ood      AUROC        FAR\n",
       "0         base  sst2_imdb  35.330372  97.994269"
      ]
     },
     "execution_count": 9,
     "metadata": {},
     "output_type": "execute_result"
    }
   ],
   "source": [
    "idx = 0\n",
    "df.loc[idx]=['base', 'sst2_imdb', auroc_base, far_base]\n",
    "df"
   ]
  },
  {
   "cell_type": "markdown",
   "metadata": {},
   "source": [
    "## Large"
   ]
  },
  {
   "cell_type": "code",
   "execution_count": 10,
   "metadata": {},
   "outputs": [],
   "source": [
    "imdb_large = np.load('msp/sst2_in_domain/large_imdb_msp.npy')"
   ]
  },
  {
   "cell_type": "code",
   "execution_count": 11,
   "metadata": {},
   "outputs": [
    {
     "name": "stdout",
     "output_type": "stream",
     "text": [
      "auroc: 35.716532951289395\n",
      "far: 97.99426934097421\n"
     ]
    }
   ],
   "source": [
    "auroc_large = compute_auroc(sst2_large, imdb_large)\n",
    "far_large = compute_far(sst2_large, imdb_large)\n",
    "\n",
    "print('auroc:', auroc_large)\n",
    "print('far:', far_large)"
   ]
  },
  {
   "cell_type": "code",
   "execution_count": 12,
   "metadata": {},
   "outputs": [
    {
     "data": {
      "text/html": [
       "<div>\n",
       "<style scoped>\n",
       "    .dataframe tbody tr th:only-of-type {\n",
       "        vertical-align: middle;\n",
       "    }\n",
       "\n",
       "    .dataframe tbody tr th {\n",
       "        vertical-align: top;\n",
       "    }\n",
       "\n",
       "    .dataframe thead th {\n",
       "        text-align: right;\n",
       "    }\n",
       "</style>\n",
       "<table border=\"1\" class=\"dataframe\">\n",
       "  <thead>\n",
       "    <tr style=\"text-align: right;\">\n",
       "      <th></th>\n",
       "      <th>roberta_type</th>\n",
       "      <th>id_ood</th>\n",
       "      <th>AUROC</th>\n",
       "      <th>FAR</th>\n",
       "    </tr>\n",
       "  </thead>\n",
       "  <tbody>\n",
       "    <tr>\n",
       "      <th>0</th>\n",
       "      <td>base</td>\n",
       "      <td>sst2_imdb</td>\n",
       "      <td>35.330372</td>\n",
       "      <td>97.994269</td>\n",
       "    </tr>\n",
       "    <tr>\n",
       "      <th>1</th>\n",
       "      <td>large</td>\n",
       "      <td>sst2_imdb</td>\n",
       "      <td>35.330372</td>\n",
       "      <td>97.994269</td>\n",
       "    </tr>\n",
       "  </tbody>\n",
       "</table>\n",
       "</div>"
      ],
      "text/plain": [
       "  roberta_type     id_ood      AUROC        FAR\n",
       "0         base  sst2_imdb  35.330372  97.994269\n",
       "1        large  sst2_imdb  35.330372  97.994269"
      ]
     },
     "execution_count": 12,
     "metadata": {},
     "output_type": "execute_result"
    }
   ],
   "source": [
    "idx += 1\n",
    "df.loc[idx]=['large', 'sst2_imdb', auroc_base, far_base]\n",
    "df"
   ]
  },
  {
   "cell_type": "markdown",
   "metadata": {},
   "source": [
    "# Counterfactual-IMDB (ood)"
   ]
  },
  {
   "cell_type": "markdown",
   "metadata": {},
   "source": [
    "## Base"
   ]
  },
  {
   "cell_type": "code",
   "execution_count": 13,
   "metadata": {},
   "outputs": [],
   "source": [
    "counterfactual_imdb_base = np.load('msp/sst2_in_domain/base_counterfactual-imdb_msp.npy')"
   ]
  },
  {
   "cell_type": "code",
   "execution_count": 14,
   "metadata": {},
   "outputs": [
    {
     "name": "stdout",
     "output_type": "stream",
     "text": [
      "auroc: 32.83142115646579\n",
      "far: 97.70773638968481\n"
     ]
    }
   ],
   "source": [
    "auroc_base = compute_auroc(sst2_base, counterfactual_imdb_base)\n",
    "far_base = compute_far(sst2_base, counterfactual_imdb_base)\n",
    "\n",
    "print('auroc:', auroc_base)\n",
    "print('far:', far_base)"
   ]
  },
  {
   "cell_type": "code",
   "execution_count": 15,
   "metadata": {},
   "outputs": [
    {
     "data": {
      "text/html": [
       "<div>\n",
       "<style scoped>\n",
       "    .dataframe tbody tr th:only-of-type {\n",
       "        vertical-align: middle;\n",
       "    }\n",
       "\n",
       "    .dataframe tbody tr th {\n",
       "        vertical-align: top;\n",
       "    }\n",
       "\n",
       "    .dataframe thead th {\n",
       "        text-align: right;\n",
       "    }\n",
       "</style>\n",
       "<table border=\"1\" class=\"dataframe\">\n",
       "  <thead>\n",
       "    <tr style=\"text-align: right;\">\n",
       "      <th></th>\n",
       "      <th>roberta_type</th>\n",
       "      <th>id_ood</th>\n",
       "      <th>AUROC</th>\n",
       "      <th>FAR</th>\n",
       "    </tr>\n",
       "  </thead>\n",
       "  <tbody>\n",
       "    <tr>\n",
       "      <th>0</th>\n",
       "      <td>base</td>\n",
       "      <td>sst2_imdb</td>\n",
       "      <td>35.330372</td>\n",
       "      <td>97.994269</td>\n",
       "    </tr>\n",
       "    <tr>\n",
       "      <th>1</th>\n",
       "      <td>large</td>\n",
       "      <td>sst2_imdb</td>\n",
       "      <td>35.330372</td>\n",
       "      <td>97.994269</td>\n",
       "    </tr>\n",
       "    <tr>\n",
       "      <th>2</th>\n",
       "      <td>base</td>\n",
       "      <td>sst2_counterfactual-imdb</td>\n",
       "      <td>32.831421</td>\n",
       "      <td>97.707736</td>\n",
       "    </tr>\n",
       "  </tbody>\n",
       "</table>\n",
       "</div>"
      ],
      "text/plain": [
       "  roberta_type                    id_ood      AUROC        FAR\n",
       "0         base                 sst2_imdb  35.330372  97.994269\n",
       "1        large                 sst2_imdb  35.330372  97.994269\n",
       "2         base  sst2_counterfactual-imdb  32.831421  97.707736"
      ]
     },
     "execution_count": 15,
     "metadata": {},
     "output_type": "execute_result"
    }
   ],
   "source": [
    "idx += 1\n",
    "df.loc[idx]=['base', 'sst2_counterfactual-imdb', auroc_base, far_base]\n",
    "df"
   ]
  },
  {
   "cell_type": "markdown",
   "metadata": {},
   "source": [
    "## Large"
   ]
  },
  {
   "cell_type": "code",
   "execution_count": 16,
   "metadata": {},
   "outputs": [],
   "source": [
    "counterfactual_imdb_large = np.load('msp/sst2_in_domain/large_counterfactual-imdb_msp.npy')"
   ]
  },
  {
   "cell_type": "code",
   "execution_count": 17,
   "metadata": {},
   "outputs": [
    {
     "name": "stdout",
     "output_type": "stream",
     "text": [
      "auroc: 32.28407276058058\n",
      "far: 97.70773638968481\n"
     ]
    }
   ],
   "source": [
    "auroc_large = compute_auroc(sst2_large, counterfactual_imdb_large)\n",
    "far_large = compute_far(sst2_large, counterfactual_imdb_large)\n",
    "\n",
    "print('auroc:', auroc_large)\n",
    "print('far:', far_large)"
   ]
  },
  {
   "cell_type": "code",
   "execution_count": 18,
   "metadata": {},
   "outputs": [
    {
     "data": {
      "text/html": [
       "<div>\n",
       "<style scoped>\n",
       "    .dataframe tbody tr th:only-of-type {\n",
       "        vertical-align: middle;\n",
       "    }\n",
       "\n",
       "    .dataframe tbody tr th {\n",
       "        vertical-align: top;\n",
       "    }\n",
       "\n",
       "    .dataframe thead th {\n",
       "        text-align: right;\n",
       "    }\n",
       "</style>\n",
       "<table border=\"1\" class=\"dataframe\">\n",
       "  <thead>\n",
       "    <tr style=\"text-align: right;\">\n",
       "      <th></th>\n",
       "      <th>roberta_type</th>\n",
       "      <th>id_ood</th>\n",
       "      <th>AUROC</th>\n",
       "      <th>FAR</th>\n",
       "    </tr>\n",
       "  </thead>\n",
       "  <tbody>\n",
       "    <tr>\n",
       "      <th>0</th>\n",
       "      <td>base</td>\n",
       "      <td>sst2_imdb</td>\n",
       "      <td>35.330372</td>\n",
       "      <td>97.994269</td>\n",
       "    </tr>\n",
       "    <tr>\n",
       "      <th>1</th>\n",
       "      <td>large</td>\n",
       "      <td>sst2_imdb</td>\n",
       "      <td>35.330372</td>\n",
       "      <td>97.994269</td>\n",
       "    </tr>\n",
       "    <tr>\n",
       "      <th>2</th>\n",
       "      <td>base</td>\n",
       "      <td>sst2_counterfactual-imdb</td>\n",
       "      <td>32.831421</td>\n",
       "      <td>97.707736</td>\n",
       "    </tr>\n",
       "    <tr>\n",
       "      <th>3</th>\n",
       "      <td>large</td>\n",
       "      <td>sst2_counterfactual-imdb</td>\n",
       "      <td>32.831421</td>\n",
       "      <td>97.707736</td>\n",
       "    </tr>\n",
       "  </tbody>\n",
       "</table>\n",
       "</div>"
      ],
      "text/plain": [
       "  roberta_type                    id_ood      AUROC        FAR\n",
       "0         base                 sst2_imdb  35.330372  97.994269\n",
       "1        large                 sst2_imdb  35.330372  97.994269\n",
       "2         base  sst2_counterfactual-imdb  32.831421  97.707736\n",
       "3        large  sst2_counterfactual-imdb  32.831421  97.707736"
      ]
     },
     "execution_count": 18,
     "metadata": {},
     "output_type": "execute_result"
    }
   ],
   "source": [
    "idx += 1\n",
    "df.loc[idx]=['large', 'sst2_counterfactual-imdb', auroc_base, far_base]\n",
    "df"
   ]
  },
  {
   "cell_type": "markdown",
   "metadata": {},
   "source": [
    "# SNLI (ood)"
   ]
  },
  {
   "cell_type": "markdown",
   "metadata": {},
   "source": [
    "## Base"
   ]
  },
  {
   "cell_type": "code",
   "execution_count": 19,
   "metadata": {},
   "outputs": [],
   "source": [
    "snli_base = np.load('msp/sst2_in_domain/base_snli_msp.npy')"
   ]
  },
  {
   "cell_type": "code",
   "execution_count": 20,
   "metadata": {},
   "outputs": [
    {
     "name": "stdout",
     "output_type": "stream",
     "text": [
      "auroc: 10.253760744985673\n",
      "far: 99.14040114613181\n"
     ]
    }
   ],
   "source": [
    "auroc_base = compute_auroc(sst2_base, snli_base)\n",
    "far_base = compute_far(sst2_base, snli_base)\n",
    "\n",
    "print('auroc:', auroc_base)\n",
    "print('far:', far_base)"
   ]
  },
  {
   "cell_type": "code",
   "execution_count": 21,
   "metadata": {},
   "outputs": [
    {
     "data": {
      "text/html": [
       "<div>\n",
       "<style scoped>\n",
       "    .dataframe tbody tr th:only-of-type {\n",
       "        vertical-align: middle;\n",
       "    }\n",
       "\n",
       "    .dataframe tbody tr th {\n",
       "        vertical-align: top;\n",
       "    }\n",
       "\n",
       "    .dataframe thead th {\n",
       "        text-align: right;\n",
       "    }\n",
       "</style>\n",
       "<table border=\"1\" class=\"dataframe\">\n",
       "  <thead>\n",
       "    <tr style=\"text-align: right;\">\n",
       "      <th></th>\n",
       "      <th>roberta_type</th>\n",
       "      <th>id_ood</th>\n",
       "      <th>AUROC</th>\n",
       "      <th>FAR</th>\n",
       "    </tr>\n",
       "  </thead>\n",
       "  <tbody>\n",
       "    <tr>\n",
       "      <th>0</th>\n",
       "      <td>base</td>\n",
       "      <td>sst2_imdb</td>\n",
       "      <td>35.330372</td>\n",
       "      <td>97.994269</td>\n",
       "    </tr>\n",
       "    <tr>\n",
       "      <th>1</th>\n",
       "      <td>large</td>\n",
       "      <td>sst2_imdb</td>\n",
       "      <td>35.330372</td>\n",
       "      <td>97.994269</td>\n",
       "    </tr>\n",
       "    <tr>\n",
       "      <th>2</th>\n",
       "      <td>base</td>\n",
       "      <td>sst2_counterfactual-imdb</td>\n",
       "      <td>32.831421</td>\n",
       "      <td>97.707736</td>\n",
       "    </tr>\n",
       "    <tr>\n",
       "      <th>3</th>\n",
       "      <td>large</td>\n",
       "      <td>sst2_counterfactual-imdb</td>\n",
       "      <td>32.831421</td>\n",
       "      <td>97.707736</td>\n",
       "    </tr>\n",
       "    <tr>\n",
       "      <th>4</th>\n",
       "      <td>base</td>\n",
       "      <td>sst2_snli</td>\n",
       "      <td>10.253761</td>\n",
       "      <td>99.140401</td>\n",
       "    </tr>\n",
       "  </tbody>\n",
       "</table>\n",
       "</div>"
      ],
      "text/plain": [
       "  roberta_type                    id_ood      AUROC        FAR\n",
       "0         base                 sst2_imdb  35.330372  97.994269\n",
       "1        large                 sst2_imdb  35.330372  97.994269\n",
       "2         base  sst2_counterfactual-imdb  32.831421  97.707736\n",
       "3        large  sst2_counterfactual-imdb  32.831421  97.707736\n",
       "4         base                 sst2_snli  10.253761  99.140401"
      ]
     },
     "execution_count": 21,
     "metadata": {},
     "output_type": "execute_result"
    }
   ],
   "source": [
    "idx += 1\n",
    "df.loc[idx]=['base', 'sst2_snli', auroc_base, far_base]\n",
    "df"
   ]
  },
  {
   "cell_type": "markdown",
   "metadata": {},
   "source": [
    "## Large"
   ]
  },
  {
   "cell_type": "code",
   "execution_count": 22,
   "metadata": {},
   "outputs": [],
   "source": [
    "snli_large = np.load('msp/sst2_in_domain/large_snli_msp.npy')"
   ]
  },
  {
   "cell_type": "code",
   "execution_count": 23,
   "metadata": {},
   "outputs": [
    {
     "name": "stdout",
     "output_type": "stream",
     "text": [
      "auroc: 9.339104584527218\n",
      "far: 99.5702005730659\n"
     ]
    }
   ],
   "source": [
    "auroc_large = compute_auroc(sst2_large, snli_large)\n",
    "far_large = compute_far(sst2_large, snli_large)\n",
    "\n",
    "print('auroc:', auroc_large)\n",
    "print('far:', far_large)"
   ]
  },
  {
   "cell_type": "code",
   "execution_count": 24,
   "metadata": {},
   "outputs": [
    {
     "data": {
      "text/html": [
       "<div>\n",
       "<style scoped>\n",
       "    .dataframe tbody tr th:only-of-type {\n",
       "        vertical-align: middle;\n",
       "    }\n",
       "\n",
       "    .dataframe tbody tr th {\n",
       "        vertical-align: top;\n",
       "    }\n",
       "\n",
       "    .dataframe thead th {\n",
       "        text-align: right;\n",
       "    }\n",
       "</style>\n",
       "<table border=\"1\" class=\"dataframe\">\n",
       "  <thead>\n",
       "    <tr style=\"text-align: right;\">\n",
       "      <th></th>\n",
       "      <th>roberta_type</th>\n",
       "      <th>id_ood</th>\n",
       "      <th>AUROC</th>\n",
       "      <th>FAR</th>\n",
       "    </tr>\n",
       "  </thead>\n",
       "  <tbody>\n",
       "    <tr>\n",
       "      <th>0</th>\n",
       "      <td>base</td>\n",
       "      <td>sst2_imdb</td>\n",
       "      <td>35.330372</td>\n",
       "      <td>97.994269</td>\n",
       "    </tr>\n",
       "    <tr>\n",
       "      <th>1</th>\n",
       "      <td>large</td>\n",
       "      <td>sst2_imdb</td>\n",
       "      <td>35.330372</td>\n",
       "      <td>97.994269</td>\n",
       "    </tr>\n",
       "    <tr>\n",
       "      <th>2</th>\n",
       "      <td>base</td>\n",
       "      <td>sst2_counterfactual-imdb</td>\n",
       "      <td>32.831421</td>\n",
       "      <td>97.707736</td>\n",
       "    </tr>\n",
       "    <tr>\n",
       "      <th>3</th>\n",
       "      <td>large</td>\n",
       "      <td>sst2_counterfactual-imdb</td>\n",
       "      <td>32.831421</td>\n",
       "      <td>97.707736</td>\n",
       "    </tr>\n",
       "    <tr>\n",
       "      <th>4</th>\n",
       "      <td>base</td>\n",
       "      <td>sst2_snli</td>\n",
       "      <td>10.253761</td>\n",
       "      <td>99.140401</td>\n",
       "    </tr>\n",
       "    <tr>\n",
       "      <th>5</th>\n",
       "      <td>large</td>\n",
       "      <td>sst2_snli</td>\n",
       "      <td>10.253761</td>\n",
       "      <td>99.140401</td>\n",
       "    </tr>\n",
       "  </tbody>\n",
       "</table>\n",
       "</div>"
      ],
      "text/plain": [
       "  roberta_type                    id_ood      AUROC        FAR\n",
       "0         base                 sst2_imdb  35.330372  97.994269\n",
       "1        large                 sst2_imdb  35.330372  97.994269\n",
       "2         base  sst2_counterfactual-imdb  32.831421  97.707736\n",
       "3        large  sst2_counterfactual-imdb  32.831421  97.707736\n",
       "4         base                 sst2_snli  10.253761  99.140401\n",
       "5        large                 sst2_snli  10.253761  99.140401"
      ]
     },
     "execution_count": 24,
     "metadata": {},
     "output_type": "execute_result"
    }
   ],
   "source": [
    "idx += 1\n",
    "df.loc[idx]=['large', 'sst2_snli', auroc_base, far_base]\n",
    "df"
   ]
  },
  {
   "cell_type": "code",
   "execution_count": null,
   "metadata": {},
   "outputs": [],
   "source": []
  }
 ],
 "metadata": {
  "kernelspec": {
   "display_name": "Python 3",
   "language": "python",
   "name": "python3"
  },
  "language_info": {
   "codemirror_mode": {
    "name": "ipython",
    "version": 3
   },
   "file_extension": ".py",
   "mimetype": "text/x-python",
   "name": "python",
   "nbconvert_exporter": "python",
   "pygments_lexer": "ipython3",
   "version": "3.7.7"
  }
 },
 "nbformat": 4,
 "nbformat_minor": 4
}
