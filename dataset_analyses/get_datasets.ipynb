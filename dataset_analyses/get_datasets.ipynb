{
 "cells": [
  {
   "cell_type": "code",
   "execution_count": 1,
   "metadata": {},
   "outputs": [],
   "source": [
    "import os\n",
    "\n",
    "import numpy as np\n",
    "import pandas as pd\n",
    "from sklearn.utils import shuffle\n",
    "\n",
    "import datasets\n",
    "from datasets import load_dataset\n",
    "\n",
    "from tqdm import tqdm\n",
    "import pickle"
   ]
  },
  {
   "cell_type": "code",
   "execution_count": 2,
   "metadata": {},
   "outputs": [],
   "source": [
    "data_out = os.path.join('.','datasets')\n",
    "custom_out = os.path.join(data_out, 'used_evals')"
   ]
  },
  {
   "cell_type": "code",
   "execution_count": 3,
   "metadata": {},
   "outputs": [],
   "source": [
    "# setting this to None will be default load_data\n",
    "data_cache = os.path.join(data_out, 'datasets')"
   ]
  },
  {
   "cell_type": "code",
   "execution_count": 4,
   "metadata": {},
   "outputs": [],
   "source": [
    "in_domains = [\n",
    "    'imdb',\n",
    "    'sst2',\n",
    "]\n",
    "\n",
    "seed = 42\n",
    "\n",
    "hf_datasets = [\n",
    "    'imdb',\n",
    "    'rte',\n",
    "    'snli',\n",
    "    'sst2',\n",
    "]\n",
    "\n",
    "glue = ['rte', 'sst2']\n",
    "\n",
    "other_datasets = {\n",
    "    'counterfactual-imdb':{\n",
    "        'base': os.path.join(data_out, 'counterfactually-augmented-data', 'sentiment', 'new'),\n",
    "        'files': [\n",
    "            'train.tsv',\n",
    "            'dev.tsv',\n",
    "            'test.tsv',\n",
    "        ]\n",
    "    }\n",
    "}\n",
    "\n",
    "eval_split_keys = {\n",
    "    'imdb': 'test',\n",
    "    'rte': 'validation',\n",
    "    'snli': 'validation',\n",
    "    'sst2': 'validation',\n",
    "    'counterfactual-imdb': 'dev'\n",
    "}\n",
    "\n",
    "datasets_to_keys = {\n",
    "    'imdb': ('text', None),\n",
    "    'rte': ('sentence1', 'sentence2'),\n",
    "    'snli': ('premise', 'hypothesis'),\n",
    "    'sst2': ('sentence', None),\n",
    "    'counterfactual-imdb': ('Text', None)\n",
    "}"
   ]
  },
  {
   "cell_type": "markdown",
   "metadata": {},
   "source": [
    "# HF datasets"
   ]
  },
  {
   "cell_type": "code",
   "execution_count": 5,
   "metadata": {},
   "outputs": [],
   "source": [
    "data = {}"
   ]
  },
  {
   "cell_type": "code",
   "execution_count": 6,
   "metadata": {},
   "outputs": [],
   "source": [
    "with open(os.path.join(data_cache, 'hf_data.p'), 'rb') as f:\n",
    "    data = pickle.load(f)"
   ]
  },
  {
   "cell_type": "markdown",
   "metadata": {},
   "source": [
    "# Counterfactual Data"
   ]
  },
  {
   "cell_type": "code",
   "execution_count": 7,
   "metadata": {},
   "outputs": [],
   "source": [
    "cimdb = []\n",
    "for data_name, data_dict in other_datasets.items():\n",
    "    base = data_dict['base']\n",
    "    for file in data_dict['files']:\n",
    "        cimdb.append(pd.read_table(os.path.join(base, file)))\n",
    "    temp = pd.concat(cimdb)\n",
    "    data[('ood', 'val', data_name)] = {'text': temp['Text'].tolist(), 'label': temp['Sentiment'].tolist()}"
   ]
  },
  {
   "cell_type": "markdown",
   "metadata": {},
   "source": [
    "# Write-Out"
   ]
  },
  {
   "cell_type": "code",
   "execution_count": 8,
   "metadata": {},
   "outputs": [],
   "source": [
    "with open(os.path.join('.', 'all_val_data.p'), 'wb') as f:\n",
    "    pickle.dump(data, f)"
   ]
  }
 ],
 "metadata": {
  "kernelspec": {
   "display_name": "DL",
   "language": "python",
   "name": "dl"
  },
  "language_info": {
   "codemirror_mode": {
    "name": "ipython",
    "version": 3
   },
   "file_extension": ".py",
   "mimetype": "text/x-python",
   "name": "python",
   "nbconvert_exporter": "python",
   "pygments_lexer": "ipython3",
   "version": "3.7.9"
  }
 },
 "nbformat": 4,
 "nbformat_minor": 4
}
